{
 "cells": [
  {
   "cell_type": "code",
   "execution_count": 13,
   "metadata": {
    "id": "8Kdk1c3AqCK1"
   },
   "outputs": [
    {
     "name": "stdout",
     "output_type": "stream",
     "text": [
      "Enter the city name: kottayam\n"
     ]
    }
   ],
   "source": [
    "import requests\n",
    "#import os\n",
    "from datetime import datetime\n",
    "\n",
    "api_key = 'e215904d33e7bbb626771e53fb33f567'\n",
    "location = input(\"Enter the city name: \")\n",
    "\n",
    "complete_api_link = \"https://api.openweathermap.org/data/2.5/weather?q=\"+location+\"&appid=\"+api_key\n",
    "api_link = requests.get(complete_api_link)\n",
    "api_data = api_link.json()\n",
    "\n",
    "#create variables to store and display data\n",
    "temp_city = ((api_data['main']['temp']) - 273.15)\n",
    "weather_desc = api_data['weather'][0]['description']\n",
    "hmdt = api_data['main']['humidity']\n",
    "wind_spd = api_data['wind']['speed']\n",
    "date_time = datetime.now().strftime(\"%d %b %Y | %I:%M:%S %p\")\n",
    "\n",
    "a=\"-------------------------------------------------------------\\n\"\n",
    "b=\"Weather Stats for - {}  || {}\\n\".format(location.upper(), date_time)\n",
    "c=\"-------------------------------------------------------------\\n\"\n",
    "\n",
    "d=\"Current temperature   : {:.2f} deg C\\n\".format(temp_city)\n",
    "e=\"Current weather desc  :\"+weather_desc+\"\\n\"\n",
    "f=\"Current Humidity      :\"+str(hmdt)+\"%\\n\"\n",
    "g=\"Current wind speed    :\"+str(wind_spd)+\" kmph\\n\"\n",
    "\n",
    "file=open(\"weather.txt\",\"w+\")\n",
    "file.write(a+b+c+d+e+f+g)\n",
    "file.close()"
   ]
  },
  {
   "cell_type": "code",
   "execution_count": null,
   "metadata": {},
   "outputs": [],
   "source": []
  },
  {
   "cell_type": "code",
   "execution_count": null,
   "metadata": {},
   "outputs": [],
   "source": []
  }
 ],
 "metadata": {
  "colab": {
   "collapsed_sections": [],
   "name": "Haritha_weather.ipynb",
   "provenance": []
  },
  "kernelspec": {
   "display_name": "Python 3",
   "language": "python",
   "name": "python3"
  }
 },
 "nbformat": 4,
 "nbformat_minor": 1
}
